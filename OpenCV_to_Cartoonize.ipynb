{
  "nbformat": 4,
  "nbformat_minor": 0,
  "metadata": {
    "colab": {
      "provenance": [],
      "toc_visible": true,
      "authorship_tag": "ABX9TyMz+tY0M+sTs0SgzQGcXXRh",
      "include_colab_link": true
    },
    "kernelspec": {
      "name": "python3",
      "display_name": "Python 3"
    },
    "language_info": {
      "name": "python"
    }
  },
  "cells": [
    {
      "cell_type": "markdown",
      "metadata": {
        "id": "view-in-github",
        "colab_type": "text"
      },
      "source": [
        "<a href=\"https://colab.research.google.com/github/Smartprem/OpenCV_to_Cartoonize/blob/main/OpenCV_to_Cartoonize.ipynb\" target=\"_parent\"><img src=\"https://colab.research.google.com/assets/colab-badge.svg\" alt=\"Open In Colab\"/></a>"
      ]
    },
    {
      "cell_type": "code",
      "execution_count": null,
      "metadata": {
        "id": "7h5n3__zB2AV"
      },
      "outputs": [],
      "source": [
        "import cv2\n",
        "import numpy as np\n",
        "import matplotlib.pyplot as plt"
      ]
    },
    {
      "cell_type": "markdown",
      "source": [
        "Loading Image"
      ],
      "metadata": {
        "id": "D1LnHrCzKCxJ"
      }
    },
    {
      "cell_type": "code",
      "source": [
        "def read_file()\n",
        "    img = "
      ],
      "metadata": {
        "id": "soNYfNbeJoJl"
      },
      "execution_count": null,
      "outputs": []
    },
    {
      "cell_type": "code",
      "source": [],
      "metadata": {
        "id": "rOPvExxsKIzj"
      },
      "execution_count": null,
      "outputs": []
    }
  ]
}